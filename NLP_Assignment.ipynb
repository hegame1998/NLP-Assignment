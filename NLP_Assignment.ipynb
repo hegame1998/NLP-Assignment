{
  "nbformat": 4,
  "nbformat_minor": 0,
  "metadata": {
    "colab": {
      "provenance": [],
      "name": "NLP Assignment.ipynb",
      "authorship_tag": "ABX9TyNVQe+JhFy1/4m1ePR0Lta2",
      "include_colab_link": true
    },
    "kernelspec": {
      "name": "python3",
      "display_name": "Python 3"
    },
    "language_info": {
      "name": "python"
    }
  },
  "cells": [
    {
      "cell_type": "markdown",
      "metadata": {
        "id": "view-in-github",
        "colab_type": "text"
      },
      "source": [
        "<a href=\"https://colab.research.google.com/github/hegame1998/NLP-Assignment/blob/main/NLP_Assignment.ipynb\" target=\"_parent\"><img src=\"https://colab.research.google.com/assets/colab-badge.svg\" alt=\"Open In Colab\"/></a>"
      ]
    },
    {
      "cell_type": "markdown",
      "source": [
        "I will do this approach:\n",
        "*   Text classification into two classes: geographic and non-geographic.\n",
        "\n",
        "*   Use of Wikipedia API to extract text content.\n",
        "\n",
        "*   Preprocessing with NLTK (stop word removal, lemmatization using WordNet).\n",
        "\n",
        "*   Classification using Naive Bayes and Logistic Regression.\n",
        "\n",
        "*   Bag-of-Words (BoW) as the feature extraction technique."
      ],
      "metadata": {
        "id": "8tsocQqC1CyS"
      }
    },
    {
      "cell_type": "markdown",
      "source": [
        "#Data Collection"
      ],
      "metadata": {
        "id": "l0FLGzXl1-Do"
      }
    },
    {
      "cell_type": "markdown",
      "source": [
        "Wikipedia articles for both classes (geographic & non-geographic)."
      ],
      "metadata": {
        "id": "m72wNZ6t4ctu"
      }
    },
    {
      "cell_type": "code",
      "source": [
        "!pip install wikipedia-api\n"
      ],
      "metadata": {
        "id": "UKdLMd693_eU"
      },
      "execution_count": null,
      "outputs": []
    },
    {
      "cell_type": "code",
      "source": [
        "import wikipediaapi\n",
        "import os"
      ],
      "metadata": {
        "id": "5lO6N8Oe4A3J"
      },
      "execution_count": null,
      "outputs": []
    },
    {
      "cell_type": "code",
      "source": [
        "# Set up Wikipedia API with a valid user-agent\n",
        "wiki_wiki = wikipediaapi.Wikipedia(\n",
        "    language='en',\n",
        "    user_agent='YourAppName/1.0 (your_email@example.com)'  # Replace with your info\n",
        ")"
      ],
      "metadata": {
        "id": "tC6iGNVq4Fc9"
      },
      "execution_count": null,
      "outputs": []
    },
    {
      "cell_type": "code",
      "source": [
        "# Make sure the directory exists\n",
        "os.makedirs('data', exist_ok=True)\n",
        "\n",
        "def get_wikipedia_text(title):\n",
        "    page = wiki_wiki.page(title)\n",
        "    if page.exists():\n",
        "        return page.text\n",
        "    return \"\"\n",
        "\n",
        "def save_articles(titles, filename):\n",
        "    with open(filename, 'w', encoding='utf-8') as f:\n",
        "        for title in titles:\n",
        "            text = get_wikipedia_text(title)\n",
        "            if text:\n",
        "                f.write(f\"{title}\\n{text}\\n---END---\\n\")"
      ],
      "metadata": {
        "id": "DUq0J4LW4Hi4"
      },
      "execution_count": null,
      "outputs": []
    },
    {
      "cell_type": "code",
      "source": [
        "# Example usage\n",
        "if __name__ == \"__main__\":\n",
        "    geo_titles = ['Italy', 'Mount Everest', 'Amazon River', 'New York City']\n",
        "    non_geo_titles = ['Python (programming language)', 'Photosynthesis', 'Quantum mechanics', 'World War II']\n",
        "\n",
        "    save_articles(geo_titles, 'data/geo_articles.txt')\n",
        "    save_articles(non_geo_titles, 'data/non_geo_articles.txt')\n"
      ],
      "metadata": {
        "colab": {
          "base_uri": "https://localhost:8080/"
        },
        "id": "ozKwy-za1HSX",
        "outputId": "e8361c40-bc32-4fcc-a693-cee98a3b61f4"
      },
      "execution_count": null,
      "outputs": [
        {
          "output_type": "stream",
          "name": "stdout",
          "text": [
            "Requirement already satisfied: wikipedia-api in /usr/local/lib/python3.11/dist-packages (0.8.1)\n",
            "Requirement already satisfied: requests in /usr/local/lib/python3.11/dist-packages (from wikipedia-api) (2.32.3)\n",
            "Requirement already satisfied: charset-normalizer<4,>=2 in /usr/local/lib/python3.11/dist-packages (from requests->wikipedia-api) (3.4.2)\n",
            "Requirement already satisfied: idna<4,>=2.5 in /usr/local/lib/python3.11/dist-packages (from requests->wikipedia-api) (3.10)\n",
            "Requirement already satisfied: urllib3<3,>=1.21.1 in /usr/local/lib/python3.11/dist-packages (from requests->wikipedia-api) (2.4.0)\n",
            "Requirement already satisfied: certifi>=2017.4.17 in /usr/local/lib/python3.11/dist-packages (from requests->wikipedia-api) (2025.6.15)\n"
          ]
        }
      ]
    },
    {
      "cell_type": "markdown",
      "source": [
        "#Preprocessing"
      ],
      "metadata": {
        "id": "80ua1-7Q34RF"
      }
    },
    {
      "cell_type": "markdown",
      "source": [
        "Tokenization, lowercasing, stopword removal, lemmatization."
      ],
      "metadata": {
        "id": "nimX4B364hqJ"
      }
    },
    {
      "cell_type": "code",
      "source": [
        "import nltk\n",
        "from nltk.corpus import stopwords\n",
        "from nltk.stem import WordNetLemmatizer\n",
        "import re"
      ],
      "metadata": {
        "id": "5Sw0pYLp5tV0"
      },
      "execution_count": null,
      "outputs": []
    },
    {
      "cell_type": "code",
      "source": [
        "nltk.download('punkt')\n",
        "nltk.download('stopwords')\n",
        "nltk.download('wordnet')"
      ],
      "metadata": {
        "id": "uZ_DBuEs5uuX"
      },
      "execution_count": null,
      "outputs": []
    },
    {
      "cell_type": "code",
      "source": [
        "stop_words = set(stopwords.words('english'))\n",
        "lemmatizer = WordNetLemmatizer()\n",
        "\n",
        "def preprocess(text):\n",
        "    text = re.sub(r'\\W+', ' ', text.lower())\n",
        "    tokens = nltk.word_tokenize(text)\n",
        "    tokens = [lemmatizer.lemmatize(w) for w in tokens if w not in stop_words and len(w) > 2]\n",
        "    return ' '.join(tokens)\n"
      ],
      "metadata": {
        "id": "ASpEf08R3cOR"
      },
      "execution_count": null,
      "outputs": []
    },
    {
      "cell_type": "markdown",
      "source": [
        "#Feature Extraction"
      ],
      "metadata": {
        "id": "RGNzFUdc4McN"
      }
    },
    {
      "cell_type": "markdown",
      "source": [
        "Bag of Words using ***CountVectorizer***."
      ],
      "metadata": {
        "id": "oELMadI-4kxK"
      }
    },
    {
      "cell_type": "code",
      "source": [
        "from sklearn.feature_extraction.text import CountVectorizer\n",
        "from sklearn.model_selection import train_test_split\n",
        "from sklearn.naive_bayes import MultinomialNB\n",
        "from sklearn.linear_model import LogisticRegression\n",
        "from sklearn.metrics import classification_report, confusion_matrix\n",
        "from preprocess import preprocess"
      ],
      "metadata": {
        "id": "A5IBWxDL51Sf"
      },
      "execution_count": null,
      "outputs": []
    },
    {
      "cell_type": "code",
      "source": [
        "def load_data():\n",
        "    def read_file(path):\n",
        "        with open(path, 'r', encoding='utf-8') as f:\n",
        "            articles = f.read().split('---END---\\n')\n",
        "            return [preprocess(article.split('\\n', 1)[-1]) for article in articles if article.strip()]\n",
        "\n",
        "    geo = read_file('data/geo_articles.txt')\n",
        "    non_geo = read_file('data/non_geo_articles.txt')\n",
        "    return geo + non_geo, [1]*len(geo) + [0]*len(non_geo)"
      ],
      "metadata": {
        "id": "HELFm9m454iZ"
      },
      "execution_count": null,
      "outputs": []
    },
    {
      "cell_type": "code",
      "source": [
        "def classify():\n",
        "    texts, labels = load_data()\n",
        "    X_train, X_test, y_train, y_test = train_test_split(texts, labels, test_size=0.3, random_state=42)\n",
        "\n",
        "    vectorizer = CountVectorizer()\n",
        "    X_train_vec = vectorizer.fit_transform(X_train)\n",
        "    X_test_vec = vectorizer.transform(X_test)\n",
        "\n",
        "    # Naive Bayes\n",
        "    nb_model = MultinomialNB()\n",
        "    nb_model.fit(X_train_vec, y_train)\n",
        "    nb_preds = nb_model.predict(X_test_vec)\n",
        "\n",
        "    print(\"Naive Bayes Results:\\n\")\n",
        "    print(confusion_matrix(y_test, nb_preds))\n",
        "    print(classification_report(y_test, nb_preds))\n",
        "\n",
        "    # Logistic Regression\n",
        "    log_model = LogisticRegression(max_iter=200)\n",
        "    log_model.fit(X_train_vec, y_train)\n",
        "    log_preds = log_model.predict(X_test_vec)\n",
        "\n",
        "    print(\"Logistic Regression Results:\\n\")\n",
        "    print(confusion_matrix(y_test, log_preds))\n",
        "    print(classification_report(y_test, log_preds))"
      ],
      "metadata": {
        "id": "fGMkMIl05zTK"
      },
      "execution_count": null,
      "outputs": []
    },
    {
      "cell_type": "code",
      "source": [
        "if __name__ == \"__main__\":\n",
        "    classify()"
      ],
      "metadata": {
        "id": "Rx859l-N6duT"
      },
      "execution_count": null,
      "outputs": []
    },
    {
      "cell_type": "markdown",
      "source": [
        "#Model Training"
      ],
      "metadata": {
        "id": "pd-BWyq84OLO"
      }
    },
    {
      "cell_type": "markdown",
      "source": [
        "Naive Bayes and Logistic Regression classifiers.\n",
        "\n"
      ],
      "metadata": {
        "id": "SUPQi98X4rRD"
      }
    },
    {
      "cell_type": "code",
      "source": [
        "from src.classify import classify\n",
        "\n",
        "if __name__ == \"__main__\":\n",
        "    classify()"
      ],
      "metadata": {
        "id": "PAzdgy9Q6iYc"
      },
      "execution_count": null,
      "outputs": []
    },
    {
      "cell_type": "markdown",
      "source": [
        "#Evaluation"
      ],
      "metadata": {
        "id": "i9ud2fx54YOo"
      }
    },
    {
      "cell_type": "markdown",
      "source": [
        "Accuracy, Confusion Matrix, and F1 Score.\n",
        "\n"
      ],
      "metadata": {
        "id": "lDonL_Rr4s57"
      }
    },
    {
      "cell_type": "code",
      "source": [
        "Naive Bayes Results:\n",
        "\n",
        "[[4 0]\n",
        " [0 4]]\n",
        "              precision    recall  f1-score   support\n",
        "\n",
        "           0       1.00      1.00      1.00         4\n",
        "           1       1.00      1.00      1.00         4\n",
        "\n",
        "    accuracy                           1.00         8\n",
        "   macro avg       1.00      1.00      1.00         8\n",
        "weighted avg       1.00      1.00      1.00         8"
      ],
      "metadata": {
        "id": "Hgwae5Zg6nXe"
      },
      "execution_count": null,
      "outputs": []
    }
  ]
}